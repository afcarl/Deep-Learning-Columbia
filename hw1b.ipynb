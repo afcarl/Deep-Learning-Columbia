{
 "cells": [
  {
   "cell_type": "code",
   "execution_count": 1,
   "metadata": {
    "collapsed": true
   },
   "outputs": [],
   "source": [
    "%matplotlib inline"
   ]
  },
  {
   "cell_type": "code",
   "execution_count": 21,
   "metadata": {
    "collapsed": false
   },
   "outputs": [],
   "source": [
    "from os import walk\n",
    "import numpy as np\n",
    "import matplotlib as mpl\n",
    "mpl.use('Agg')\n",
    "import matplotlib.pyplot as plt\n",
    "import matplotlib.cm as cm\n",
    "\n",
    "from PIL import Image\n",
    "\n",
    "import theano\n",
    "import theano.tensor as T\n",
    "from theano import shared\n",
    "from theano.tensor.nnet.neighbours import images2neibs"
   ]
  },
  {
   "cell_type": "code",
   "execution_count": 13,
   "metadata": {
    "collapsed": true
   },
   "outputs": [],
   "source": [
    "import os\n",
    "\n",
    "# This method reads all the images in sorted order of their names and adds them to the Ims array.\n",
    "\n",
    "def imgRead():\n",
    "    Ims = np.empty(shape = (213, 256*256), dtype = np.float32);\n",
    "\n",
    "    for root, dirs, files in walk(\"./jaffe/\", topdown=True):\n",
    "        files.sort()   \n",
    "        for i in range(0, len(files)):  \n",
    "            img = Image.open(os.path.join(root, files[i]))\n",
    "            Ims[i] = np.array(img).flatten()\n",
    "    \n",
    "    \n",
    "    return Ims"
   ]
  },
  {
   "cell_type": "code",
   "execution_count": 42,
   "metadata": {
    "collapsed": true
   },
   "outputs": [],
   "source": [
    "# Untouched Code\n",
    "# Plots 9 reconstructions of Image by varying the number of eigen vectors used\n",
    "\n",
    "def plot_mul(c, D, im_num, X_mn, num_coeffs):\n",
    "    f, axarr = plt.subplots(3, 3)\n",
    "\n",
    "    for i in range(3):\n",
    "        for j in range(3):\n",
    "            nc = num_coeffs[i*3+j]\n",
    "            cij = c[:nc, im_num]\n",
    "            Dij = D[:, :nc]\n",
    "            plot(cij, Dij, X_mn, axarr[i, j])\n",
    "\n",
    "    f.savefig('output/hw1b_im{0}.png'.format(im_num))\n",
    "    plt.close(f)"
   ]
  },
  {
   "cell_type": "code",
   "execution_count": 43,
   "metadata": {
    "collapsed": true
   },
   "outputs": [],
   "source": [
    "# Plots the image given c, D and X_mn\n",
    "def plot(c, D, X_mn, ax):    \n",
    "    P = np.dot(D, c)\n",
    "    im = Image.fromarray(P.reshape((256,256)) + X_mn)\n",
    "    ax.imshow(im)"
   ]
  },
  {
   "cell_type": "code",
   "execution_count": 44,
   "metadata": {
    "collapsed": true
   },
   "outputs": [],
   "source": [
    "# Plots the top 16 Eigen Vectors \n",
    "def plot_top_16(D, sz, imname):\n",
    "    f, axarr = plt.subplots(4, 4)\n",
    "    for i in range(4):\n",
    "        for j in range(4):\n",
    "            axarr[i,j].imshow(D[:, 4*i + j].reshape(sz, sz), cmap=plt.cm.gray)\n",
    "    f.savefig(imname)\n",
    "    plt.close(f)"
   ]
  },
  {
   "cell_type": "code",
   "execution_count": 14,
   "metadata": {
    "collapsed": false
   },
   "outputs": [],
   "source": [
    "# Reading Image which are then collapsed into the desired format.\n",
    "Ims = imgRead()\n",
    "\n",
    "Ims = Ims.astype(np.float32)\n",
    "X_mn = np.mean(Ims, 0)\n",
    "X = Ims - np.repeat(X_mn.reshape(1, -1), Ims.shape[0], 0)"
   ]
  },
  {
   "cell_type": "code",
   "execution_count": 23,
   "metadata": {
    "collapsed": false
   },
   "outputs": [],
   "source": [
    "rng = np.random\n",
    "\n",
    "# Symbolic Variable for current Eigen Vector (d_i)\n",
    "d = shared(rng.randn(256*256), name=\"d\") \n",
    "\n",
    "# Symbolic Variable for Eigen Vectors\n",
    "D = T.fmatrix('D')\n",
    "\n",
    "# Symbolic Variable for Eigen Values\n",
    "L = T.fvector('L') \n",
    "\n",
    "# Symbolic Expression for cost function which needed to minimized\n",
    "cost = T.dot(T.dot(d.T, X.T), T.dot(X, d)) - T.dot(T.dot(D,d).T, (T.dot(D,d)) * L.T)\n",
    "\n",
    "# Symbolic Expression for finding the gradient of the cost function w.r.t. d\n",
    "gradient = T.grad(cost, d)\n",
    "\n",
    "# Theano Function to update the value of d after 1 iteration of the gradient descent algorithm\n",
    "update = theano.function([D, L], [] , updates=[(d, d + 0.1 * gradient)])\n",
    "\n",
    "# Theano Function to normalize d after update\n",
    "norm = theano.function([], [], updates=[(d, d / d.norm(2))])"
   ]
  },
  {
   "cell_type": "code",
   "execution_count": 24,
   "metadata": {
    "collapsed": true
   },
   "outputs": [],
   "source": [
    "# Starting values for D and L\n",
    "eVectors = np.zeros((16, 256*256), dtype = np.float32)\n",
    "eValues = np.ndarray(16, dtype = np.float32)\n",
    "\n",
    "for i in range(16):\n",
    "    t = 0\n",
    "    while t < 10: # and stopping condition\n",
    "        update(eVectors[:i, :], eValues[:i])\n",
    "        norm()\n",
    "        t += 1\n",
    "    \n",
    "    # Set the eigen vector at position i after gradient descent algorithm converges\n",
    "    eVectors[i] = d.get_value()\n",
    "    \n",
    "    # Set the eigen value at position i based on eigen vector computed above\n",
    "    eValues[i] = np.dot(np.dot(d.get_value().T, X.T), np.dot(X, d.get_value()))"
   ]
  },
  {
   "cell_type": "code",
   "execution_count": 27,
   "metadata": {
    "collapsed": false
   },
   "outputs": [],
   "source": [
    "# Encoding the image using the Eigen vectors obtained after gradient descent algorithm\n",
    "c = np.dot(eVectors, X.T)"
   ]
  },
  {
   "cell_type": "code",
   "execution_count": 40,
   "metadata": {
    "collapsed": false
   },
   "outputs": [],
   "source": [
    "def main():\n",
    "    for i in range(0,200,10):\n",
    "        plot_mul(c, eVectors.T, i, X_mn.reshape((256, 256)),[1, 2, 4, 6, 8, 10, 12, 14, 16])\n",
    "        \n",
    "    plot_top_16(eVectors.T, 256, 'output/hw1b_top16_256.png')"
   ]
  },
  {
   "cell_type": "code",
   "execution_count": 41,
   "metadata": {
    "collapsed": false
   },
   "outputs": [],
   "source": [
    "main()"
   ]
  }
 ],
 "metadata": {
  "kernelspec": {
   "display_name": "Python 2",
   "language": "python",
   "name": "python2"
  },
  "language_info": {
   "codemirror_mode": {
    "name": "ipython",
    "version": 2
   },
   "file_extension": ".py",
   "mimetype": "text/x-python",
   "name": "python",
   "nbconvert_exporter": "python",
   "pygments_lexer": "ipython2",
   "version": "2.7.11"
  }
 },
 "nbformat": 4,
 "nbformat_minor": 0
}
